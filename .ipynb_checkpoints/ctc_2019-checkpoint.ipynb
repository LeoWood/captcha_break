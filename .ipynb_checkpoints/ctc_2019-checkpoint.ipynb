{
 "cells": [
  {
   "cell_type": "markdown",
   "metadata": {},
   "source": [
    "# 导入必要的库\n",
    "\n",
    "我们需要导入一个叫 [captcha](https://github.com/lepture/captcha/) 的库来生成验证码。\n",
    "\n",
    "我们生成验证码的字符由数字和大写字母组成。\n",
    "\n",
    "```sh\n",
    "pip install captcha numpy matplotlib tensorflow-gpu pydot tqdm\n",
    "```"
   ]
  },
  {
   "cell_type": "code",
   "execution_count": 1,
   "metadata": {
    "ExecuteTime": {
     "end_time": "2019-06-16T06:51:38.735536Z",
     "start_time": "2019-06-16T06:51:38.469537Z"
    }
   },
   "outputs": [
    {
     "name": "stdout",
     "output_type": "stream",
     "text": [
      "0123456789ABCDEFGHIJKLMNOPQRSTUVWXYZ\n"
     ]
    }
   ],
   "source": [
    "from captcha.image import ImageCaptcha\n",
    "import matplotlib.pyplot as plt\n",
    "import numpy as np\n",
    "import random\n",
    "\n",
    "%matplotlib inline\n",
    "%config InlineBackend.figure_format = 'retina'\n",
    "\n",
    "import string\n",
    "characters = string.digits + string.ascii_uppercase\n",
    "print(characters)\n",
    "\n",
    "width, height, n_len, n_class = 128, 64, 4, len(characters) + 1"
   ]
  },
  {
   "cell_type": "markdown",
   "metadata": {},
   "source": [
    "# 防止 tensorflow 占用所有显存"
   ]
  },
  {
   "cell_type": "code",
   "execution_count": null,
   "metadata": {
    "ExecuteTime": {
     "end_time": "2019-06-16T06:51:40.012307Z",
     "start_time": "2019-06-16T06:51:38.736824Z"
    }
   },
   "outputs": [],
   "source": [
    "import tensorflow as tf\n",
    "import tensorflow.keras.backend as K\n",
    "\n",
    "config = tf.ConfigProto()\n",
    "config.gpu_options.allow_growth=True\n",
    "sess = tf.Session(config=config)\n",
    "K.set_session(sess)"
   ]
  },
  {
   "cell_type": "markdown",
   "metadata": {},
   "source": [
    "# 定义 CTC Loss"
   ]
  },
  {
   "cell_type": "code",
   "execution_count": null,
   "metadata": {
    "ExecuteTime": {
     "end_time": "2019-06-16T06:51:40.019037Z",
     "start_time": "2019-06-16T06:51:40.014648Z"
    }
   },
   "outputs": [],
   "source": [
    "import tensorflow.keras.backend as K\n",
    "\n",
    "def ctc_lambda_func(args):\n",
    "    y_pred, labels, input_length, label_length = args\n",
    "    return K.ctc_batch_cost(labels, y_pred, input_length, label_length)"
   ]
  },
  {
   "cell_type": "markdown",
   "metadata": {},
   "source": [
    "# 定义网络结构"
   ]
  },
  {
   "cell_type": "code",
   "execution_count": null,
   "metadata": {
    "ExecuteTime": {
     "end_time": "2019-06-16T06:51:41.015916Z",
     "start_time": "2019-06-16T06:51:40.021386Z"
    }
   },
   "outputs": [],
   "source": [
    "from tensorflow.keras.models import *\n",
    "from tensorflow.keras.layers import *\n",
    "\n",
    "input_tensor = Input((height, width, 3))\n",
    "x = input_tensor\n",
    "for i, n_cnn in enumerate([2, 2, 2, 2, 2]):\n",
    "    for j in range(n_cnn):\n",
    "        x = Conv2D(32*2**min(i, 3), kernel_size=3, padding='same', kernel_initializer='he_uniform')(x)\n",
    "        x = BatchNormalization()(x)\n",
    "        x = Activation('relu')(x)\n",
    "    x = MaxPooling2D(2 if i < 3 else (2, 1))(x)\n",
    "\n",
    "x = Permute((2, 1, 3))(x)\n",
    "x = TimeDistributed(Flatten())(x)\n",
    "\n",
    "rnn_size = 128\n",
    "x = Bidirectional(CuDNNGRU(rnn_size, return_sequences=True))(x)\n",
    "x = Bidirectional(CuDNNGRU(rnn_size, return_sequences=True))(x)\n",
    "x = Dense(n_class, activation='softmax')(x)\n",
    "\n",
    "base_model = Model(inputs=input_tensor, outputs=x)"
   ]
  },
  {
   "cell_type": "code",
   "execution_count": null,
   "metadata": {
    "ExecuteTime": {
     "end_time": "2019-06-16T06:51:41.133269Z",
     "start_time": "2019-06-16T06:51:41.017246Z"
    }
   },
   "outputs": [],
   "source": [
    "labels = Input(name='the_labels', shape=[n_len], dtype='float32')\n",
    "input_length = Input(name='input_length', shape=[1], dtype='int64')\n",
    "label_length = Input(name='label_length', shape=[1], dtype='int64')\n",
    "loss_out = Lambda(ctc_lambda_func, output_shape=(1,), name='ctc')([x, labels, input_length, label_length])\n",
    "\n",
    "model = Model(inputs=[input_tensor, labels, input_length, label_length], outputs=loss_out)"
   ]
  },
  {
   "cell_type": "markdown",
   "metadata": {},
   "source": [
    "# 网络结构可视化"
   ]
  },
  {
   "cell_type": "code",
   "execution_count": null,
   "metadata": {
    "ExecuteTime": {
     "end_time": "2019-06-16T06:51:41.687532Z",
     "start_time": "2019-06-16T06:51:41.135134Z"
    },
    "scrolled": false
   },
   "outputs": [],
   "source": [
    "from tensorflow.keras.utils import plot_model\n",
    "from IPython.display import Image\n",
    "\n",
    "plot_model(model, to_file='ctc.png', show_shapes=True)\n",
    "Image('ctc.png')"
   ]
  },
  {
   "cell_type": "code",
   "execution_count": null,
   "metadata": {
    "ExecuteTime": {
     "end_time": "2019-06-16T06:51:41.696732Z",
     "start_time": "2019-06-16T06:51:41.688981Z"
    }
   },
   "outputs": [],
   "source": [
    "base_model.summary()"
   ]
  },
  {
   "cell_type": "markdown",
   "metadata": {},
   "source": [
    "# 定义数据生成器"
   ]
  },
  {
   "cell_type": "code",
   "execution_count": 2,
   "metadata": {
    "ExecuteTime": {
     "end_time": "2019-06-16T06:51:41.706826Z",
     "start_time": "2019-06-16T06:51:41.698386Z"
    }
   },
   "outputs": [
    {
     "name": "stderr",
     "output_type": "stream",
     "text": [
      "d:\\anaconda3\\envs\\py36\\lib\\site-packages\\tensorflow\\python\\framework\\dtypes.py:523: FutureWarning: Passing (type, 1) or '1type' as a synonym of type is deprecated; in a future version of numpy, it will be understood as (type, (1,)) / '(1,)type'.\n",
      "  _np_qint8 = np.dtype([(\"qint8\", np.int8, 1)])\n",
      "d:\\anaconda3\\envs\\py36\\lib\\site-packages\\tensorflow\\python\\framework\\dtypes.py:524: FutureWarning: Passing (type, 1) or '1type' as a synonym of type is deprecated; in a future version of numpy, it will be understood as (type, (1,)) / '(1,)type'.\n",
      "  _np_quint8 = np.dtype([(\"quint8\", np.uint8, 1)])\n",
      "d:\\anaconda3\\envs\\py36\\lib\\site-packages\\tensorflow\\python\\framework\\dtypes.py:525: FutureWarning: Passing (type, 1) or '1type' as a synonym of type is deprecated; in a future version of numpy, it will be understood as (type, (1,)) / '(1,)type'.\n",
      "  _np_qint16 = np.dtype([(\"qint16\", np.int16, 1)])\n",
      "d:\\anaconda3\\envs\\py36\\lib\\site-packages\\tensorflow\\python\\framework\\dtypes.py:526: FutureWarning: Passing (type, 1) or '1type' as a synonym of type is deprecated; in a future version of numpy, it will be understood as (type, (1,)) / '(1,)type'.\n",
      "  _np_quint16 = np.dtype([(\"quint16\", np.uint16, 1)])\n",
      "d:\\anaconda3\\envs\\py36\\lib\\site-packages\\tensorflow\\python\\framework\\dtypes.py:527: FutureWarning: Passing (type, 1) or '1type' as a synonym of type is deprecated; in a future version of numpy, it will be understood as (type, (1,)) / '(1,)type'.\n",
      "  _np_qint32 = np.dtype([(\"qint32\", np.int32, 1)])\n",
      "d:\\anaconda3\\envs\\py36\\lib\\site-packages\\tensorflow\\python\\framework\\dtypes.py:532: FutureWarning: Passing (type, 1) or '1type' as a synonym of type is deprecated; in a future version of numpy, it will be understood as (type, (1,)) / '(1,)type'.\n",
      "  np_resource = np.dtype([(\"resource\", np.ubyte, 1)])\n"
     ]
    }
   ],
   "source": [
    "from tensorflow.keras.utils import Sequence\n",
    "\n",
    "class CaptchaSequence(Sequence):\n",
    "    def __init__(self, characters, batch_size, steps, n_len=4, width=128, height=64, \n",
    "                 input_length=16, label_length=4):\n",
    "        self.characters = characters\n",
    "        self.batch_size = batch_size\n",
    "        self.steps = steps\n",
    "        self.n_len = n_len\n",
    "        self.width = width\n",
    "        self.height = height\n",
    "        self.input_length = input_length\n",
    "        self.label_length = label_length\n",
    "        self.n_class = len(characters)\n",
    "        self.generator = ImageCaptcha(width=width, height=height)\n",
    "    \n",
    "    def __len__(self):\n",
    "        return self.steps\n",
    "\n",
    "    def __getitem__(self, idx):\n",
    "        X = np.zeros((self.batch_size, self.height, self.width, 3), dtype=np.float32)\n",
    "        y = np.zeros((self.batch_size, self.n_len), dtype=np.uint8)\n",
    "        input_length = np.ones(self.batch_size)*self.input_length\n",
    "        label_length = np.ones(self.batch_size)*self.label_length\n",
    "        for i in range(self.batch_size):\n",
    "            random_str = ''.join([random.choice(self.characters) for j in range(self.n_len)])\n",
    "            X[i] = np.array(self.generator.generate_image(random_str)) / 255.0\n",
    "            y[i] = [self.characters.find(x) for x in random_str]\n",
    "        return [X, y, input_length, label_length], np.ones(self.batch_size)"
   ]
  },
  {
   "cell_type": "markdown",
   "metadata": {
    "collapsed": true
   },
   "source": [
    "# 测试生成器"
   ]
  },
  {
   "cell_type": "code",
   "execution_count": 8,
   "metadata": {
    "ExecuteTime": {
     "end_time": "2019-06-16T06:51:41.909160Z",
     "start_time": "2019-06-16T06:51:41.708359Z"
    }
   },
   "outputs": [
    {
     "name": "stdout",
     "output_type": "stream",
     "text": [
      "[[[0.96862745 0.9882353  0.9372549 ]\n",
      "  [0.96862745 0.9882353  0.9372549 ]\n",
      "  [0.96862745 0.9882353  0.9372549 ]\n",
      "  ...\n",
      "  [0.96862745 0.9882353  0.9372549 ]\n",
      "  [0.96862745 0.9882353  0.9372549 ]\n",
      "  [0.96862745 0.9882353  0.9372549 ]]\n",
      "\n",
      " [[0.96862745 0.9882353  0.9372549 ]\n",
      "  [0.96862745 0.9882353  0.9372549 ]\n",
      "  [0.96862745 0.9882353  0.9372549 ]\n",
      "  ...\n",
      "  [0.96862745 0.9882353  0.9372549 ]\n",
      "  [0.96862745 0.9882353  0.9372549 ]\n",
      "  [0.96862745 0.9882353  0.9372549 ]]\n",
      "\n",
      " [[0.96862745 0.9882353  0.9372549 ]\n",
      "  [0.96862745 0.9882353  0.9372549 ]\n",
      "  [0.96862745 0.9882353  0.9372549 ]\n",
      "  ...\n",
      "  [0.96862745 0.9882353  0.9372549 ]\n",
      "  [0.96862745 0.9882353  0.9372549 ]\n",
      "  [0.96862745 0.9882353  0.9372549 ]]\n",
      "\n",
      " ...\n",
      "\n",
      " [[0.96862745 0.9882353  0.9372549 ]\n",
      "  [0.96862745 0.9882353  0.9372549 ]\n",
      "  [0.96862745 0.9882353  0.9372549 ]\n",
      "  ...\n",
      "  [0.96862745 0.9882353  0.9372549 ]\n",
      "  [0.96862745 0.9882353  0.9372549 ]\n",
      "  [0.96862745 0.9882353  0.9372549 ]]\n",
      "\n",
      " [[0.96862745 0.9882353  0.9372549 ]\n",
      "  [0.96862745 0.9882353  0.9372549 ]\n",
      "  [0.96862745 0.9882353  0.9372549 ]\n",
      "  ...\n",
      "  [0.96862745 0.9882353  0.9372549 ]\n",
      "  [0.96862745 0.9882353  0.9372549 ]\n",
      "  [0.96862745 0.9882353  0.9372549 ]]\n",
      "\n",
      " [[0.96862745 0.9882353  0.9372549 ]\n",
      "  [0.96862745 0.9882353  0.9372549 ]\n",
      "  [0.96862745 0.9882353  0.9372549 ]\n",
      "  ...\n",
      "  [0.96862745 0.9882353  0.9372549 ]\n",
      "  [0.96862745 0.9882353  0.9372549 ]\n",
      "  [0.96862745 0.9882353  0.9372549 ]]]\n"
     ]
    },
    {
     "ename": "NameError",
     "evalue": "name 'input_length' is not defined",
     "output_type": "error",
     "traceback": [
      "\u001b[1;31m---------------------------------------------------------------------------\u001b[0m",
      "\u001b[1;31mNameError\u001b[0m                                 Traceback (most recent call last)",
      "\u001b[1;32m<ipython-input-8-62541555690a>\u001b[0m in \u001b[0;36m<module>\u001b[1;34m\u001b[0m\n\u001b[0;32m      4\u001b[0m \u001b[0mplt\u001b[0m\u001b[1;33m.\u001b[0m\u001b[0mimshow\u001b[0m\u001b[1;33m(\u001b[0m\u001b[0mX_test\u001b[0m\u001b[1;33m[\u001b[0m\u001b[1;36m0\u001b[0m\u001b[1;33m]\u001b[0m\u001b[1;33m)\u001b[0m\u001b[1;33m\u001b[0m\u001b[1;33m\u001b[0m\u001b[0m\n\u001b[0;32m      5\u001b[0m \u001b[0mplt\u001b[0m\u001b[1;33m.\u001b[0m\u001b[0mtitle\u001b[0m\u001b[1;33m(\u001b[0m\u001b[1;34m''\u001b[0m\u001b[1;33m.\u001b[0m\u001b[0mjoin\u001b[0m\u001b[1;33m(\u001b[0m\u001b[1;33m[\u001b[0m\u001b[0mcharacters\u001b[0m\u001b[1;33m[\u001b[0m\u001b[0mx\u001b[0m\u001b[1;33m]\u001b[0m \u001b[1;32mfor\u001b[0m \u001b[0mx\u001b[0m \u001b[1;32min\u001b[0m \u001b[0my_test\u001b[0m\u001b[1;33m[\u001b[0m\u001b[1;36m0\u001b[0m\u001b[1;33m]\u001b[0m\u001b[1;33m]\u001b[0m\u001b[1;33m)\u001b[0m\u001b[1;33m)\u001b[0m\u001b[1;33m\u001b[0m\u001b[1;33m\u001b[0m\u001b[0m\n\u001b[1;32m----> 6\u001b[1;33m \u001b[0mprint\u001b[0m\u001b[1;33m(\u001b[0m\u001b[0minput_length\u001b[0m\u001b[1;33m,\u001b[0m \u001b[0mlabel_length\u001b[0m\u001b[1;33m)\u001b[0m\u001b[1;33m\u001b[0m\u001b[1;33m\u001b[0m\u001b[0m\n\u001b[0m",
      "\u001b[1;31mNameError\u001b[0m: name 'input_length' is not defined"
     ]
    },
    {
     "data": {
      "image/png": "[encoded data removed]",
      "text/plain": [
       "<Figure size 432x288 with 1 Axes>"
      ]
     },
     "metadata": {
      "image/png": {
       "height": 213,
       "width": 368
      },
      "needs_background": "light"
     },
     "output_type": "display_data"
    }
   ],
   "source": [
    "data = CaptchaSequence(characters, batch_size=1, steps=1)\n",
    "[X_test, y_test, _, _], _  = data[0]\n",
    "plt.imshow(X_test[0])\n",
    "plt.title(''.join([characters[x] for x in y_test[0]]))\n",
    "print(input_length, label_length)"
   ]
  },
  {
   "cell_type": "markdown",
   "metadata": {},
   "source": [
    "# 准确率回调函数"
   ]
  },
  {
   "cell_type": "code",
   "execution_count": null,
   "metadata": {
    "ExecuteTime": {
     "end_time": "2019-06-16T06:51:41.920047Z",
     "start_time": "2019-06-16T06:51:41.911070Z"
    }
   },
   "outputs": [],
   "source": [
    "from tqdm import tqdm\n",
    "\n",
    "def evaluate(model, batch_size=128, steps=20):\n",
    "    batch_acc = 0\n",
    "    valid_data = CaptchaSequence(characters, batch_size, steps)\n",
    "    for [X_test, y_test, _, _], _ in valid_data:\n",
    "        y_pred = base_model.predict(X_test)\n",
    "        shape = y_pred.shape\n",
    "        out = K.get_value(K.ctc_decode(y_pred, input_length=np.ones(shape[0])*shape[1])[0][0])[:, :4]\n",
    "        if out.shape[1] == 4:\n",
    "            batch_acc += (y_test == out).all(axis=1).mean()\n",
    "    return batch_acc / steps"
   ]
  },
  {
   "cell_type": "code",
   "execution_count": null,
   "metadata": {
    "ExecuteTime": {
     "end_time": "2019-06-16T06:51:41.927035Z",
     "start_time": "2019-06-16T06:51:41.921727Z"
    }
   },
   "outputs": [],
   "source": [
    "from tensorflow.keras.callbacks import Callback\n",
    "\n",
    "class Evaluate(Callback):\n",
    "    def __init__(self):\n",
    "        self.accs = []\n",
    "    \n",
    "    def on_epoch_end(self, epoch, logs=None):\n",
    "        logs = logs or {}\n",
    "        acc = evaluate(base_model)\n",
    "        logs['val_acc'] = acc\n",
    "        self.accs.append(acc)\n",
    "        print(f'\\nacc: {acc*100:.4f}')"
   ]
  },
  {
   "cell_type": "markdown",
   "metadata": {},
   "source": [
    "# 训练模型"
   ]
  },
  {
   "cell_type": "code",
   "execution_count": null,
   "metadata": {
    "ExecuteTime": {
     "end_time": "2019-06-16T08:35:47.053701Z",
     "start_time": "2019-06-16T06:51:41.929060Z"
    },
    "scrolled": false
   },
   "outputs": [],
   "source": [
    "from tensorflow.keras.callbacks import EarlyStopping, CSVLogger, ModelCheckpoint\n",
    "from tensorflow.keras.optimizers import *\n",
    "\n",
    "train_data = CaptchaSequence(characters, batch_size=128, steps=1000)\n",
    "valid_data = CaptchaSequence(characters, batch_size=128, steps=100)\n",
    "callbacks = [EarlyStopping(patience=5), Evaluate(), \n",
    "             CSVLogger('ctc.csv'), ModelCheckpoint('ctc_best.h5', save_best_only=True)]\n",
    "\n",
    "model.compile(loss={'ctc': lambda y_true, y_pred: y_pred}, optimizer=Adam(1e-3, amsgrad=True))\n",
    "model.fit_generator(train_data, epochs=100, validation_data=valid_data, workers=4, use_multiprocessing=True,\n",
    "                    callbacks=callbacks)"
   ]
  },
  {
   "cell_type": "markdown",
   "metadata": {},
   "source": [
    "### 载入最好的模型继续训练一会"
   ]
  },
  {
   "cell_type": "code",
   "execution_count": null,
   "metadata": {
    "ExecuteTime": {
     "end_time": "2019-06-16T09:16:19.684510Z",
     "start_time": "2019-06-16T08:35:47.057236Z"
    }
   },
   "outputs": [],
   "source": [
    "model.load_weights('ctc_best.h5')\n",
    "\n",
    "callbacks = [EarlyStopping(patience=5), Evaluate(), \n",
    "             CSVLogger('ctc.csv', append=True), ModelCheckpoint('ctc_best.h5', save_best_only=True)]\n",
    "\n",
    "model.compile(loss={'ctc': lambda y_true, y_pred: y_pred}, optimizer=Adam(1e-4, amsgrad=True))\n",
    "model.fit_generator(train_data, epochs=100, validation_data=valid_data, workers=4, use_multiprocessing=True,\n",
    "                    callbacks=callbacks)"
   ]
  },
  {
   "cell_type": "code",
   "execution_count": null,
   "metadata": {
    "ExecuteTime": {
     "end_time": "2019-06-16T09:16:19.729405Z",
     "start_time": "2019-06-16T09:16:19.686054Z"
    }
   },
   "outputs": [],
   "source": [
    "model.load_weights('ctc_best.h5')"
   ]
  },
  {
   "cell_type": "markdown",
   "metadata": {},
   "source": [
    "# 测试模型"
   ]
  },
  {
   "cell_type": "code",
   "execution_count": null,
   "metadata": {
    "ExecuteTime": {
     "end_time": "2019-06-16T09:16:20.917277Z",
     "start_time": "2019-06-16T09:16:19.731259Z"
    }
   },
   "outputs": [],
   "source": [
    "characters2 = characters + ' '\n",
    "[X_test, y_test, _, _], _  = data[0]\n",
    "y_pred = base_model.predict(X_test)\n",
    "out = K.get_value(K.ctc_decode(y_pred, input_length=np.ones(y_pred.shape[0])*y_pred.shape[1], )[0][0])[:, :4]\n",
    "out = ''.join([characters[x] for x in out[0]])\n",
    "y_true = ''.join([characters[x] for x in y_test[0]])\n",
    "\n",
    "plt.imshow(X_test[0])\n",
    "plt.title('pred:' + str(out) + '\\ntrue: ' + str(y_true))\n",
    "\n",
    "argmax = np.argmax(y_pred, axis=2)[0]\n",
    "list(zip(argmax, ''.join([characters2[x] for x in argmax])))"
   ]
  },
  {
   "cell_type": "markdown",
   "metadata": {},
   "source": [
    "# 计算模型总体准确率"
   ]
  },
  {
   "cell_type": "code",
   "execution_count": null,
   "metadata": {
    "ExecuteTime": {
     "end_time": "2019-06-16T09:16:44.017485Z",
     "start_time": "2019-06-16T09:16:20.918496Z"
    }
   },
   "outputs": [],
   "source": [
    "evaluate(base_model)"
   ]
  },
  {
   "cell_type": "markdown",
   "metadata": {},
   "source": [
    "# 保存模型"
   ]
  },
  {
   "cell_type": "code",
   "execution_count": null,
   "metadata": {
    "ExecuteTime": {
     "end_time": "2019-06-16T09:16:44.073896Z",
     "start_time": "2019-06-16T09:16:44.018652Z"
    }
   },
   "outputs": [],
   "source": [
    "base_model.save('ctc.h5', include_optimizer=False)"
   ]
  },
  {
   "cell_type": "markdown",
   "metadata": {
    "collapsed": true
   },
   "source": [
    "# 可视化训练曲线\n",
    "\n",
    "```sh\n",
    "pip install pandas\n",
    "```"
   ]
  },
  {
   "cell_type": "code",
   "execution_count": null,
   "metadata": {
    "ExecuteTime": {
     "end_time": "2019-06-16T09:17:29.985054Z",
     "start_time": "2019-06-16T09:17:29.852065Z"
    }
   },
   "outputs": [],
   "source": [
    "import pandas as pd\n",
    "\n",
    "df = pd.read_csv('ctc.csv')\n",
    "df[['loss', 'val_loss']].plot()"
   ]
  },
  {
   "cell_type": "code",
   "execution_count": null,
   "metadata": {
    "ExecuteTime": {
     "end_time": "2019-06-16T09:17:31.278107Z",
     "start_time": "2019-06-16T09:17:31.050105Z"
    }
   },
   "outputs": [],
   "source": [
    "df[['loss', 'val_loss']].plot(logy=True)"
   ]
  },
  {
   "cell_type": "code",
   "execution_count": null,
   "metadata": {
    "ExecuteTime": {
     "end_time": "2019-06-16T09:17:33.107543Z",
     "start_time": "2019-06-16T09:17:32.987147Z"
    }
   },
   "outputs": [],
   "source": [
    "df['val_acc'].plot()"
   ]
  },
  {
   "cell_type": "code",
   "execution_count": null,
   "metadata": {},
   "outputs": [],
   "source": []
  }
 ],
 "metadata": {
  "kernelspec": {
   "display_name": "Python 3",
   "language": "python",
   "name": "python3"
  },
  "language_info": {
   "codemirror_mode": {
    "name": "ipython",
    "version": 3
   },
   "file_extension": ".py",
   "mimetype": "text/x-python",
   "name": "python",
   "nbconvert_exporter": "python",
   "pygments_lexer": "ipython3",
   "version": "3.6.9"
  }
 },
 "nbformat": 4,
 "nbformat_minor": 2
}
